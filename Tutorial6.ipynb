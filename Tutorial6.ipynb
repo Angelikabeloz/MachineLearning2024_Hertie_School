{
 "cells": [
  {
   "cell_type": "markdown",
   "id": "41612d9c-fa12-4e80-9e9e-41b52d094613",
   "metadata": {},
   "source": [
    "### Import Necessary Libraries"
   ]
  },
  {
   "cell_type": "code",
   "execution_count": 41,
   "id": "d654f23f-e5ea-48b2-b08e-51ac81a46852",
   "metadata": {},
   "outputs": [],
   "source": [
    "import numpy as np\n",
    "import pandas as pd\n",
    "\n",
    "import matplotlib.pyplot as plt\n",
    "\n",
    "from sklearn.model_selection import train_test_split, cross_val_score, KFold\n",
    "\n",
    "from sklearn.linear_model import Ridge\n",
    "from sklearn.kernel_ridge import KernelRidge\n",
    "\n",
    "from sklearn.preprocessing import StandardScaler,PolynomialFeatures\n",
    "from sklearn.metrics import mean_squared_error\n",
    "\n",
    "from sklearn.pipeline import make_pipeline\n"
   ]
  },
  {
   "cell_type": "code",
   "execution_count": 5,
   "id": "930b72f9-7c6d-4d80-ab6c-7d1b82313511",
   "metadata": {},
   "outputs": [],
   "source": [
    "# pip install ISLP"
   ]
  },
  {
   "cell_type": "markdown",
   "id": "4b1e5871-1177-4ea1-a544-cdd7643418f8",
   "metadata": {},
   "source": [
    "### Load and Preprocess the Data"
   ]
  },
  {
   "cell_type": "code",
   "execution_count": 6,
   "id": "65406bf1-6c04-4ceb-98f1-0d08b63fd303",
   "metadata": {},
   "outputs": [],
   "source": [
    "from ISLP import load_data\n"
   ]
  },
  {
   "cell_type": "code",
   "execution_count": 7,
   "id": "502da703-1b24-4697-895d-a7a0cf35ce5e",
   "metadata": {},
   "outputs": [
    {
     "data": {
      "text/html": [
       "<div>\n",
       "<style scoped>\n",
       "    .dataframe tbody tr th:only-of-type {\n",
       "        vertical-align: middle;\n",
       "    }\n",
       "\n",
       "    .dataframe tbody tr th {\n",
       "        vertical-align: top;\n",
       "    }\n",
       "\n",
       "    .dataframe thead th {\n",
       "        text-align: right;\n",
       "    }\n",
       "</style>\n",
       "<table border=\"1\" class=\"dataframe\">\n",
       "  <thead>\n",
       "    <tr style=\"text-align: right;\">\n",
       "      <th></th>\n",
       "      <th>AtBat</th>\n",
       "      <th>Hits</th>\n",
       "      <th>HmRun</th>\n",
       "      <th>Runs</th>\n",
       "      <th>RBI</th>\n",
       "      <th>Walks</th>\n",
       "      <th>Years</th>\n",
       "      <th>CAtBat</th>\n",
       "      <th>CHits</th>\n",
       "      <th>CHmRun</th>\n",
       "      <th>CRuns</th>\n",
       "      <th>CRBI</th>\n",
       "      <th>CWalks</th>\n",
       "      <th>League</th>\n",
       "      <th>Division</th>\n",
       "      <th>PutOuts</th>\n",
       "      <th>Assists</th>\n",
       "      <th>Errors</th>\n",
       "      <th>Salary</th>\n",
       "      <th>NewLeague</th>\n",
       "    </tr>\n",
       "  </thead>\n",
       "  <tbody>\n",
       "    <tr>\n",
       "      <th>0</th>\n",
       "      <td>293</td>\n",
       "      <td>66</td>\n",
       "      <td>1</td>\n",
       "      <td>30</td>\n",
       "      <td>29</td>\n",
       "      <td>14</td>\n",
       "      <td>1</td>\n",
       "      <td>293</td>\n",
       "      <td>66</td>\n",
       "      <td>1</td>\n",
       "      <td>30</td>\n",
       "      <td>29</td>\n",
       "      <td>14</td>\n",
       "      <td>A</td>\n",
       "      <td>E</td>\n",
       "      <td>446</td>\n",
       "      <td>33</td>\n",
       "      <td>20</td>\n",
       "      <td>NaN</td>\n",
       "      <td>A</td>\n",
       "    </tr>\n",
       "    <tr>\n",
       "      <th>1</th>\n",
       "      <td>315</td>\n",
       "      <td>81</td>\n",
       "      <td>7</td>\n",
       "      <td>24</td>\n",
       "      <td>38</td>\n",
       "      <td>39</td>\n",
       "      <td>14</td>\n",
       "      <td>3449</td>\n",
       "      <td>835</td>\n",
       "      <td>69</td>\n",
       "      <td>321</td>\n",
       "      <td>414</td>\n",
       "      <td>375</td>\n",
       "      <td>N</td>\n",
       "      <td>W</td>\n",
       "      <td>632</td>\n",
       "      <td>43</td>\n",
       "      <td>10</td>\n",
       "      <td>475.0</td>\n",
       "      <td>N</td>\n",
       "    </tr>\n",
       "    <tr>\n",
       "      <th>2</th>\n",
       "      <td>479</td>\n",
       "      <td>130</td>\n",
       "      <td>18</td>\n",
       "      <td>66</td>\n",
       "      <td>72</td>\n",
       "      <td>76</td>\n",
       "      <td>3</td>\n",
       "      <td>1624</td>\n",
       "      <td>457</td>\n",
       "      <td>63</td>\n",
       "      <td>224</td>\n",
       "      <td>266</td>\n",
       "      <td>263</td>\n",
       "      <td>A</td>\n",
       "      <td>W</td>\n",
       "      <td>880</td>\n",
       "      <td>82</td>\n",
       "      <td>14</td>\n",
       "      <td>480.0</td>\n",
       "      <td>A</td>\n",
       "    </tr>\n",
       "    <tr>\n",
       "      <th>3</th>\n",
       "      <td>496</td>\n",
       "      <td>141</td>\n",
       "      <td>20</td>\n",
       "      <td>65</td>\n",
       "      <td>78</td>\n",
       "      <td>37</td>\n",
       "      <td>11</td>\n",
       "      <td>5628</td>\n",
       "      <td>1575</td>\n",
       "      <td>225</td>\n",
       "      <td>828</td>\n",
       "      <td>838</td>\n",
       "      <td>354</td>\n",
       "      <td>N</td>\n",
       "      <td>E</td>\n",
       "      <td>200</td>\n",
       "      <td>11</td>\n",
       "      <td>3</td>\n",
       "      <td>500.0</td>\n",
       "      <td>N</td>\n",
       "    </tr>\n",
       "    <tr>\n",
       "      <th>4</th>\n",
       "      <td>321</td>\n",
       "      <td>87</td>\n",
       "      <td>10</td>\n",
       "      <td>39</td>\n",
       "      <td>42</td>\n",
       "      <td>30</td>\n",
       "      <td>2</td>\n",
       "      <td>396</td>\n",
       "      <td>101</td>\n",
       "      <td>12</td>\n",
       "      <td>48</td>\n",
       "      <td>46</td>\n",
       "      <td>33</td>\n",
       "      <td>N</td>\n",
       "      <td>E</td>\n",
       "      <td>805</td>\n",
       "      <td>40</td>\n",
       "      <td>4</td>\n",
       "      <td>91.5</td>\n",
       "      <td>N</td>\n",
       "    </tr>\n",
       "  </tbody>\n",
       "</table>\n",
       "</div>"
      ],
      "text/plain": [
       "   AtBat  Hits  HmRun  Runs  RBI  Walks  Years  CAtBat  CHits  CHmRun  CRuns  \\\n",
       "0    293    66      1    30   29     14      1     293     66       1     30   \n",
       "1    315    81      7    24   38     39     14    3449    835      69    321   \n",
       "2    479   130     18    66   72     76      3    1624    457      63    224   \n",
       "3    496   141     20    65   78     37     11    5628   1575     225    828   \n",
       "4    321    87     10    39   42     30      2     396    101      12     48   \n",
       "\n",
       "   CRBI  CWalks League Division  PutOuts  Assists  Errors  Salary NewLeague  \n",
       "0    29      14      A        E      446       33      20     NaN         A  \n",
       "1   414     375      N        W      632       43      10   475.0         N  \n",
       "2   266     263      A        W      880       82      14   480.0         A  \n",
       "3   838     354      N        E      200       11       3   500.0         N  \n",
       "4    46      33      N        E      805       40       4    91.5         N  "
      ]
     },
     "execution_count": 7,
     "metadata": {},
     "output_type": "execute_result"
    }
   ],
   "source": [
    "# Loading the dataset\n",
    "Hitters = load_data('Hitters')\n",
    "Hitters.head()"
   ]
  },
  {
   "cell_type": "code",
   "execution_count": 8,
   "id": "460bab94-75e6-44b1-9b3a-62037889e762",
   "metadata": {},
   "outputs": [
    {
     "data": {
      "text/html": [
       "<div>\n",
       "<style scoped>\n",
       "    .dataframe tbody tr th:only-of-type {\n",
       "        vertical-align: middle;\n",
       "    }\n",
       "\n",
       "    .dataframe tbody tr th {\n",
       "        vertical-align: top;\n",
       "    }\n",
       "\n",
       "    .dataframe thead th {\n",
       "        text-align: right;\n",
       "    }\n",
       "</style>\n",
       "<table border=\"1\" class=\"dataframe\">\n",
       "  <thead>\n",
       "    <tr style=\"text-align: right;\">\n",
       "      <th></th>\n",
       "      <th>AtBat</th>\n",
       "      <th>Hits</th>\n",
       "      <th>HmRun</th>\n",
       "      <th>Runs</th>\n",
       "      <th>RBI</th>\n",
       "      <th>Walks</th>\n",
       "      <th>Years</th>\n",
       "      <th>CAtBat</th>\n",
       "      <th>CHits</th>\n",
       "      <th>CHmRun</th>\n",
       "      <th>CRuns</th>\n",
       "      <th>CRBI</th>\n",
       "      <th>CWalks</th>\n",
       "      <th>League</th>\n",
       "      <th>Division</th>\n",
       "      <th>PutOuts</th>\n",
       "      <th>Assists</th>\n",
       "      <th>Errors</th>\n",
       "      <th>Salary</th>\n",
       "      <th>NewLeague</th>\n",
       "    </tr>\n",
       "  </thead>\n",
       "  <tbody>\n",
       "    <tr>\n",
       "      <th>0</th>\n",
       "      <td>293</td>\n",
       "      <td>66</td>\n",
       "      <td>1</td>\n",
       "      <td>30</td>\n",
       "      <td>29</td>\n",
       "      <td>14</td>\n",
       "      <td>1</td>\n",
       "      <td>293</td>\n",
       "      <td>66</td>\n",
       "      <td>1</td>\n",
       "      <td>30</td>\n",
       "      <td>29</td>\n",
       "      <td>14</td>\n",
       "      <td>0</td>\n",
       "      <td>0</td>\n",
       "      <td>446</td>\n",
       "      <td>33</td>\n",
       "      <td>20</td>\n",
       "      <td>NaN</td>\n",
       "      <td>0</td>\n",
       "    </tr>\n",
       "    <tr>\n",
       "      <th>1</th>\n",
       "      <td>315</td>\n",
       "      <td>81</td>\n",
       "      <td>7</td>\n",
       "      <td>24</td>\n",
       "      <td>38</td>\n",
       "      <td>39</td>\n",
       "      <td>14</td>\n",
       "      <td>3449</td>\n",
       "      <td>835</td>\n",
       "      <td>69</td>\n",
       "      <td>321</td>\n",
       "      <td>414</td>\n",
       "      <td>375</td>\n",
       "      <td>1</td>\n",
       "      <td>1</td>\n",
       "      <td>632</td>\n",
       "      <td>43</td>\n",
       "      <td>10</td>\n",
       "      <td>475.0</td>\n",
       "      <td>1</td>\n",
       "    </tr>\n",
       "    <tr>\n",
       "      <th>2</th>\n",
       "      <td>479</td>\n",
       "      <td>130</td>\n",
       "      <td>18</td>\n",
       "      <td>66</td>\n",
       "      <td>72</td>\n",
       "      <td>76</td>\n",
       "      <td>3</td>\n",
       "      <td>1624</td>\n",
       "      <td>457</td>\n",
       "      <td>63</td>\n",
       "      <td>224</td>\n",
       "      <td>266</td>\n",
       "      <td>263</td>\n",
       "      <td>0</td>\n",
       "      <td>1</td>\n",
       "      <td>880</td>\n",
       "      <td>82</td>\n",
       "      <td>14</td>\n",
       "      <td>480.0</td>\n",
       "      <td>0</td>\n",
       "    </tr>\n",
       "    <tr>\n",
       "      <th>3</th>\n",
       "      <td>496</td>\n",
       "      <td>141</td>\n",
       "      <td>20</td>\n",
       "      <td>65</td>\n",
       "      <td>78</td>\n",
       "      <td>37</td>\n",
       "      <td>11</td>\n",
       "      <td>5628</td>\n",
       "      <td>1575</td>\n",
       "      <td>225</td>\n",
       "      <td>828</td>\n",
       "      <td>838</td>\n",
       "      <td>354</td>\n",
       "      <td>1</td>\n",
       "      <td>0</td>\n",
       "      <td>200</td>\n",
       "      <td>11</td>\n",
       "      <td>3</td>\n",
       "      <td>500.0</td>\n",
       "      <td>1</td>\n",
       "    </tr>\n",
       "    <tr>\n",
       "      <th>4</th>\n",
       "      <td>321</td>\n",
       "      <td>87</td>\n",
       "      <td>10</td>\n",
       "      <td>39</td>\n",
       "      <td>42</td>\n",
       "      <td>30</td>\n",
       "      <td>2</td>\n",
       "      <td>396</td>\n",
       "      <td>101</td>\n",
       "      <td>12</td>\n",
       "      <td>48</td>\n",
       "      <td>46</td>\n",
       "      <td>33</td>\n",
       "      <td>1</td>\n",
       "      <td>0</td>\n",
       "      <td>805</td>\n",
       "      <td>40</td>\n",
       "      <td>4</td>\n",
       "      <td>91.5</td>\n",
       "      <td>1</td>\n",
       "    </tr>\n",
       "  </tbody>\n",
       "</table>\n",
       "</div>"
      ],
      "text/plain": [
       "   AtBat  Hits  HmRun  Runs  RBI  Walks  Years  CAtBat  CHits  CHmRun  CRuns  \\\n",
       "0    293    66      1    30   29     14      1     293     66       1     30   \n",
       "1    315    81      7    24   38     39     14    3449    835      69    321   \n",
       "2    479   130     18    66   72     76      3    1624    457      63    224   \n",
       "3    496   141     20    65   78     37     11    5628   1575     225    828   \n",
       "4    321    87     10    39   42     30      2     396    101      12     48   \n",
       "\n",
       "   CRBI  CWalks  League  Division  PutOuts  Assists  Errors  Salary  NewLeague  \n",
       "0    29      14       0         0      446       33      20     NaN          0  \n",
       "1   414     375       1         1      632       43      10   475.0          1  \n",
       "2   266     263       0         1      880       82      14   480.0          0  \n",
       "3   838     354       1         0      200       11       3   500.0          1  \n",
       "4    46      33       1         0      805       40       4    91.5          1  "
      ]
     },
     "execution_count": 8,
     "metadata": {},
     "output_type": "execute_result"
    }
   ],
   "source": [
    "# Converting non-numeric variables to numerical by getting dummy variables\n",
    "Hitters['League'] = pd.get_dummies(Hitters['League'], drop_first=True)\n",
    "Hitters['Division'] = pd.get_dummies(Hitters['Division'], drop_first=True)\n",
    "Hitters['NewLeague'] = pd.get_dummies(Hitters['NewLeague'], drop_first=True)\n",
    "Hitters.head()\n"
   ]
  },
  {
   "cell_type": "code",
   "execution_count": 9,
   "id": "608cf265-504a-467a-8cb7-6ee7e0952244",
   "metadata": {},
   "outputs": [
    {
     "data": {
      "text/plain": [
       "(322, 20)"
      ]
     },
     "execution_count": 9,
     "metadata": {},
     "output_type": "execute_result"
    }
   ],
   "source": [
    "Hitters.shape"
   ]
  },
  {
   "cell_type": "code",
   "execution_count": 10,
   "id": "5ed695c6-30f4-46cf-9c77-c0b9b2e89e11",
   "metadata": {},
   "outputs": [
    {
     "data": {
      "text/plain": [
       "(263, 20)"
      ]
     },
     "execution_count": 10,
     "metadata": {},
     "output_type": "execute_result"
    }
   ],
   "source": [
    "# Handling missing values by dropping them\n",
    "Hitters.dropna(axis=0, inplace=True)\n",
    "Hitters.shape"
   ]
  },
  {
   "cell_type": "code",
   "execution_count": 11,
   "id": "e4ba4095-dd4a-4d5a-a0fb-351ce29a966d",
   "metadata": {},
   "outputs": [],
   "source": [
    "# Separating features and target variable\n",
    "X = Hitters.drop(['Salary'], axis=1)\n",
    "y = Hitters['Salary']"
   ]
  },
  {
   "cell_type": "markdown",
   "id": "84f393f4-3788-4032-bce0-023ff5a8e509",
   "metadata": {},
   "source": [
    "### Train Test Split"
   ]
  },
  {
   "cell_type": "code",
   "execution_count": 12,
   "id": "59f3b19d-96f6-4970-8c5c-6dec6cbd034b",
   "metadata": {},
   "outputs": [],
   "source": [
    "X_train, X_test, y_train, y_test = train_test_split(X, y, test_size=0.2, random_state=42)\n"
   ]
  },
  {
   "cell_type": "markdown",
   "id": "2dea54ef-f36c-4dea-b249-5d79a3d36a64",
   "metadata": {},
   "source": [
    "### Set up Cross Validation Strategy"
   ]
  },
  {
   "cell_type": "code",
   "execution_count": 13,
   "id": "d62772ac-542b-4fe3-89e1-a24e491aaa87",
   "metadata": {},
   "outputs": [],
   "source": [
    "kf = KFold(n_splits=10, shuffle=True, random_state=42)"
   ]
  },
  {
   "cell_type": "markdown",
   "id": "d8d54aa4-b222-47b1-b592-16092b49b38e",
   "metadata": {},
   "source": [
    "### Ridge Regression"
   ]
  },
  {
   "cell_type": "code",
   "execution_count": 14,
   "id": "8ef1c78e-baf1-4612-920f-a2f43060703c",
   "metadata": {},
   "outputs": [],
   "source": [
    "## selecting 20 values of alpha\n",
    "alphas = np.logspace(-6, 6, 20)\n"
   ]
  },
  {
   "cell_type": "code",
   "execution_count": 17,
   "id": "02588c12-91ce-49dc-8115-b9cdda78d059",
   "metadata": {},
   "outputs": [
    {
     "name": "stdout",
     "output_type": "stream",
     "text": [
      "Best ridge alpha is 162.37767391887175\n"
     ]
    }
   ],
   "source": [
    "## calculating mse for different values of alpha:\n",
    "mse_scores_ridge = []\n",
    "\n",
    "for alpha in alphas:\n",
    "    model = make_pipeline(\n",
    "        StandardScaler(),\n",
    "        Ridge(alpha=alpha)\n",
    "    )\n",
    "    scores = cross_val_score(model, X_train, y_train, scoring='neg_mean_squared_error', cv=kf)\n",
    "    mse_scores_ridge.append(-1 * scores.mean())\n",
    "\n",
    "### scikit-learn's cross-validation functions aim to maximize the scoring function, \n",
    "# so using the negative MSE allows for consistency with this convention.\n",
    "\n",
    "\n",
    "# Identify the best alpha\n",
    "best_alpha_ridge = alphas[np.argmin(mse_scores_ridge)]\n",
    "print(\"Best ridge alpha is\", best_alpha_ridge )"
   ]
  },
  {
   "cell_type": "code",
   "execution_count": 18,
   "id": "0986d91c-cf65-46b3-ab69-789d61b4164d",
   "metadata": {},
   "outputs": [
    {
     "data": {
      "image/png": "[encoded data removed]",
      "text/plain": [
       "<Figure size 800x400 with 1 Axes>"
      ]
     },
     "metadata": {},
     "output_type": "display_data"
    }
   ],
   "source": [
    "## Plot MSE vs Alpha for Ridge Regression\n",
    "plt.figure(figsize=(8, 4))\n",
    "plt.semilogx(alphas, mse_scores_ridge, label='MSE', color='blue', marker='o')\n",
    "##This line creates a plot with logarithmically scaled x-axis (gamma) and linearly scaled y-axis (MSE). \n",
    "# It plots the MSE scores (mse_scores_kernel) against the gamma values (gammas). \n",
    "# The plot is labeled 'MSE', displayed in green color, and marker 'o' is used to represent data points.\n",
    "plt.xlabel('Alpha')\n",
    "plt.ylabel('Mean Squared Error')\n",
    "plt.title('Ridge Regression MSE vs. Alpha')\n",
    "plt.axvline(x=best_alpha_ridge, color='red', linestyle='--', label=f'Best Alpha: {best_alpha_ridge:.2e}')\n",
    "\n",
    "## This line adds a vertical line to the plot at the position of the best gamma (best_gamma_kernel). \n",
    "# The line is colored red, dashed ('--'), and labeled with the value of the best gamma.\n",
    "plt.legend()\n",
    "plt.show()\n"
   ]
  },
  {
   "cell_type": "markdown",
   "id": "13b0395b-32fb-4f93-8287-07f3681f40ff",
   "metadata": {},
   "source": [
    "### Kernel regression for Gaussian Kernels:"
   ]
  },
  {
   "cell_type": "code",
   "execution_count": 35,
   "id": "f3067d31-0d4a-40bf-91a1-7c50006ba45f",
   "metadata": {},
   "outputs": [],
   "source": [
    "gammas = np.logspace(-4, -1, 20)\n",
    "alpha_optimal_kernel_ridge = best_alpha_ridge  # Use the best alpha found for Ridge or another value\n"
   ]
  },
  {
   "cell_type": "code",
   "execution_count": 36,
   "id": "42de37a3-c035-4243-9b1f-5d2a40a9c22c",
   "metadata": {},
   "outputs": [
    {
     "name": "stdout",
     "output_type": "stream",
     "text": [
      "best gamma is 0.0001\n"
     ]
    }
   ],
   "source": [
    "## Calculating mse for different Gammas:\n",
    "mse_scores_kernel = []\n",
    "\n",
    "for gamma in gammas:\n",
    "    model = make_pipeline(\n",
    "        StandardScaler(),\n",
    "        KernelRidge(alpha=alpha_optimal_kernel_ridge, kernel='rbf', gamma=gamma)\n",
    "    )\n",
    "    scores = cross_val_score(model, X_train, y_train, scoring='neg_mean_squared_error', cv=kf)\n",
    "    mse_scores_kernel.append(-1 * scores.mean())\n",
    "\n",
    "# Identify the best gamma\n",
    "best_gamma_kernel = gammas[np.argmin(mse_scores_kernel)]\n",
    "print(\"best gamma is\", best_gamma_kernel)"
   ]
  },
  {
   "cell_type": "code",
   "execution_count": 37,
   "id": "3e9677bd-45db-4dd9-a7c9-2504a343d5dd",
   "metadata": {},
   "outputs": [
    {
     "data": {
      "image/png": "[encoded data removed]",
      "text/plain": [
       "<Figure size 800x400 with 1 Axes>"
      ]
     },
     "metadata": {},
     "output_type": "display_data"
    }
   ],
   "source": [
    "## MSE vs Gamma for Kernel Ridge Regression using Gaussian Kernels:\n",
    "plt.figure(figsize=(8, 4))\n",
    "plt.semilogx(gammas, mse_scores_kernel, label='MSE', color='green', marker='o')\n",
    "plt.xlabel('Gamma')\n",
    "plt.ylabel('Mean Squared Error')\n",
    "plt.title('Kernel Ridge Regression MSE vs. Gamma')\n",
    "plt.axvline(x=best_gamma_kernel, color='red', linestyle='--', label=f'Best Gamma: {best_gamma_kernel:.2e}')\n",
    "plt.legend()\n",
    "plt.show()\n"
   ]
  },
  {
   "cell_type": "code",
   "execution_count": 31,
   "id": "3d63fa9a-14cc-4984-b102-96ea1908594d",
   "metadata": {},
   "outputs": [],
   "source": [
    "## Test MSe"
   ]
  },
  {
   "cell_type": "code",
   "execution_count": 38,
   "id": "dc49542c-23f4-4438-936d-67ab07b8ec29",
   "metadata": {},
   "outputs": [
    {
     "name": "stdout",
     "output_type": "stream",
     "text": [
      "Test MSE for Ridge: 146758.28924280408\n",
      "Test MSE for Kernel Ridge: 220496.467625622\n"
     ]
    }
   ],
   "source": [
    "# Ridge model with best alpha\n",
    "ridge_model = make_pipeline(\n",
    "    StandardScaler(),\n",
    "    Ridge(alpha=best_alpha_ridge)\n",
    ")\n",
    "ridge_model.fit(X_train, y_train)\n",
    "y_pred_ridge = ridge_model.predict(X_test)\n",
    "mse_ridge = mean_squared_error(y_test, y_pred_ridge)\n",
    "\n",
    "# Kernel Ridge model with best gamma\n",
    "kernel_model = make_pipeline(\n",
    "    StandardScaler(),\n",
    "    KernelRidge(alpha=alpha_optimal_kernel_ridge, kernel='rbf', gamma=best_gamma_kernel)\n",
    ")\n",
    "kernel_model.fit(X_train, y_train)\n",
    "y_pred_kernel = kernel_model.predict(X_test)\n",
    "mse_kernel = mean_squared_error(y_test, y_pred_kernel)\n",
    "\n",
    "print(f\"Test MSE for Ridge: {mse_ridge}\")\n",
    "print(f\"Test MSE for Kernel Ridge: {mse_kernel}\")\n"
   ]
  },
  {
   "cell_type": "code",
   "execution_count": 39,
   "id": "f15ee5e7-2237-48d1-b8b0-521ec6f6b8d1",
   "metadata": {},
   "outputs": [
    {
     "name": "stdout",
     "output_type": "stream",
     "text": [
      "Ridge Regression performs better on the test set.\n"
     ]
    }
   ],
   "source": [
    "if mse_ridge < mse_kernel:\n",
    "    print(\"Ridge Regression performs better on the test set.\")\n",
    "else:\n",
    "    print(\"Kernel Ridge Regression performs better on the test set.\")\n"
   ]
  },
  {
   "cell_type": "markdown",
   "id": "2cc2ade7-4a1d-4054-b556-0c58d0e1b81d",
   "metadata": {},
   "source": [
    "### Polynomial regression"
   ]
  },
  {
   "cell_type": "code",
   "execution_count": 44,
   "id": "6e30d223-602c-4255-a740-8ed601df0ebf",
   "metadata": {},
   "outputs": [
    {
     "data": {
      "image/png": "[encoded data removed]",
      "text/plain": [
       "<Figure size 800x400 with 1 Axes>"
      ]
     },
     "metadata": {},
     "output_type": "display_data"
    }
   ],
   "source": [
    "# Define degrees for polynomial features\n",
    "degrees = [2, 3, 4,5,6]\n",
    "\n",
    "# Evaluate Polynomial Regression across degrees\n",
    "mse_scores_poly = []\n",
    "\n",
    "for degree in degrees:\n",
    "    model = make_pipeline(\n",
    "        \n",
    "    )\n",
    "    scores = \n",
    "    mse_scores_poly.append(-1 * scores.mean())\n",
    "\n",
    "# Identify the best degree for Polynomial Regression\n",
    "best_degree_poly = degrees[np.argmin(mse_scores_poly)]\n",
    "\n"
   ]
  },
  {
   "cell_type": "code",
   "execution_count": null,
   "id": "a6b9d577-ac23-4c6c-b5d4-f13047b63f8c",
   "metadata": {},
   "outputs": [],
   "source": [
    "# Plot MSE vs. degree for Polynomial Regression\n",
    "plt.figure(figsize=(8, 4))\n",
    "plt.plot(degrees, mse_scores_poly, label='MSE', color='green', marker='o')\n",
    "plt.xlabel('Degree')\n",
    "plt.ylabel('Mean Squared Error')\n",
    "plt.title('Polynomial Regression MSE vs. Degree')\n",
    "plt.axvline(x=best_degree_poly, color='red', linestyle='--', label=f'Best Degree: {best_degree_poly}')\n",
    "plt.legend()\n",
    "plt.show()"
   ]
  },
  {
   "cell_type": "code",
   "execution_count": 46,
   "id": "112aa00f-3355-463d-a17d-1dfc3aa72717",
   "metadata": {},
   "outputs": [
    {
     "name": "stdout",
     "output_type": "stream",
     "text": [
      "Test MSE for Ridge Regression: 146758.28924280408\n",
      "Test MSE for Polynomial Regression: 104678.26636654358\n",
      "Polynomial Regression performs better on the test set.\n"
     ]
    }
   ],
   "source": [
    "# Train Polynomial Regression model with best degree\n",
    "poly_model = make_pipeline(\n",
    "    \n",
    ")\n",
    "\n",
    "print(\"Test MSE for Ridge Regression:\", mse_ridge)\n",
    "print(\"Test MSE for Polynomial Regression:\", mse_poly)\n",
    "\n",
    "# Determine which model performs better\n",
    "if mse_ridge < mse_poly:\n",
    "    print(\"Ridge Regression performs better on the test set.\")\n",
    "else:\n",
    "    print(\"Polynomial Regression performs better on the test set.\")"
   ]
  },
  {
   "cell_type": "code",
   "execution_count": null,
   "id": "09f11a17-55f1-460c-865d-8387ddb28d96",
   "metadata": {},
   "outputs": [],
   "source": []
  }
 ],
 "metadata": {
  "kernelspec": {
   "display_name": "Python 3 (ipykernel)",
   "language": "python",
   "name": "python3"
  },
  "language_info": {
   "codemirror_mode": {
    "name": "ipython",
    "version": 3
   },
   "file_extension": ".py",
   "mimetype": "text/x-python",
   "name": "python",
   "nbconvert_exporter": "python",
   "pygments_lexer": "ipython3",
   "version": "3.9.18"
  }
 },
 "nbformat": 4,
 "nbformat_minor": 5
}
