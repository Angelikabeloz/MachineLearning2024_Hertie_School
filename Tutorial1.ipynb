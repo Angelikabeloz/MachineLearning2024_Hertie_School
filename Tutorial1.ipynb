{
 "cells": [
  {
   "cell_type": "markdown",
   "id": "1d245100-767e-4e28-b7de-95c21213b2e2",
   "metadata": {},
   "source": [
    "# Machine Learning Lab Tutorial 1"
   ]
  },
  {
   "cell_type": "markdown",
   "id": "7a80bb79-c429-4bc9-b8db-69b9889e920d",
   "metadata": {},
   "source": [
    "## Setting up the Environment"
   ]
  },
  {
   "cell_type": "markdown",
   "id": "9058aa72-52e8-44a3-b278-3c4a0f78b45c",
   "metadata": {},
   "source": [
    "1. Open a terminal/command prompt on your machine.\n",
    "2. Go to the folder where you wish to save your tutorials using the command: cd path/to/your/folder \n",
    "3. Create a New Conda Environment with NumPy Installed using: conda create -n MLLab numpy \n",
    "4. Activate the Newly Created Conda Environment using conda activate MLLab \n",
    "5. Install Jupyter Notebook in the Environment using: conda install notebook \n",
    "6. Launch Jupyter Notebook using: jupyter-notebook\n",
    "7. This will start the Jupyter Notebook server and should automatically open a new tab or window in the default web browser showing the Jupyter Notebook interface."
   ]
  },
  {
   "cell_type": "markdown",
   "id": "c1633d55-137a-442f-94f7-76aa2dafe50b",
   "metadata": {},
   "source": [
    "## Import the Libraries\n",
    "\n",
    "\n"
   ]
  },
  {
   "cell_type": "code",
   "execution_count": 15,
   "id": "b8c4227b-8e2e-432a-9ecb-18836009828e",
   "metadata": {},
   "outputs": [],
   "source": [
    "import numpy as np"
   ]
  },
  {
   "cell_type": "markdown",
   "id": "fe7af52e-3c1b-46c2-be9c-dc9a629cf0c1",
   "metadata": {},
   "source": [
    "#### If this command runs without any errors, it means your library has been successfully imported."
   ]
  },
  {
   "cell_type": "markdown",
   "id": "b7005edb-7641-48e8-a710-b9ec29da407c",
   "metadata": {},
   "source": [
    "## Matrix Operations using Numpy"
   ]
  },
  {
   "cell_type": "markdown",
   "id": "7eec5a13-7f21-439f-8042-c4d746232053",
   "metadata": {},
   "source": [
    "### 1. Define matrices"
   ]
  },
  {
   "cell_type": "markdown",
   "id": "deff6080-62c4-4776-b35b-c536c5ec22de",
   "metadata": {},
   "source": [
    "#### Let's define a 2x2 matrix A:\n"
   ]
  },
  {
   "cell_type": "code",
   "execution_count": 16,
   "id": "df224dce-3eb8-4415-953a-24f284c92295",
   "metadata": {},
   "outputs": [],
   "source": [
    "A=np.array([[1,2],[3,4]])"
   ]
  },
  {
   "cell_type": "markdown",
   "id": "63ea56d6-0edd-49e0-bf5b-86a453de452c",
   "metadata": {},
   "source": [
    "#### Let's see the value of A:"
   ]
  },
  {
   "cell_type": "markdown",
   "id": "3eb69892-3ad7-4d77-b9b4-e14cda31a472",
   "metadata": {},
   "source": [
    "##### Way 1"
   ]
  },
  {
   "cell_type": "code",
   "execution_count": 17,
   "id": "023791b3-082a-443e-b29e-fd6d9bd1918b",
   "metadata": {},
   "outputs": [
    {
     "data": {
      "text/plain": [
       "array([[1, 2],\n",
       "       [3, 4]])"
      ]
     },
     "execution_count": 17,
     "metadata": {},
     "output_type": "execute_result"
    }
   ],
   "source": [
    "A"
   ]
  },
  {
   "cell_type": "markdown",
   "id": "2519b8a9-b893-4736-a3a8-46f53de3f559",
   "metadata": {},
   "source": [
    "##### Way 2"
   ]
  },
  {
   "cell_type": "code",
   "execution_count": 18,
   "id": "ee8fc3ba-0f70-4c5b-8354-facf87fef381",
   "metadata": {},
   "outputs": [
    {
     "name": "stdout",
     "output_type": "stream",
     "text": [
      "[[1 2]\n",
      " [3 4]]\n"
     ]
    }
   ],
   "source": [
    "print(A)"
   ]
  },
  {
   "cell_type": "markdown",
   "id": "2d005871-8fcd-44bf-b50a-e77f4240529e",
   "metadata": {},
   "source": [
    "#### Let's define a 2x2 matrix B:"
   ]
  },
  {
   "cell_type": "code",
   "execution_count": 19,
   "id": "f4423b49-71ab-4854-aa30-54d24cd99809",
   "metadata": {},
   "outputs": [],
   "source": [
    "B=np.array([[5,6],[7,8]])"
   ]
  },
  {
   "cell_type": "code",
   "execution_count": 20,
   "id": "8e82b054-8377-4127-8feb-15e2f871ac65",
   "metadata": {},
   "outputs": [
    {
     "data": {
      "text/plain": [
       "array([[5, 6],\n",
       "       [7, 8]])"
      ]
     },
     "execution_count": 20,
     "metadata": {},
     "output_type": "execute_result"
    }
   ],
   "source": [
    "B"
   ]
  },
  {
   "cell_type": "markdown",
   "id": "0b1dc638-0304-44b8-b7b9-4c0a29f8d15d",
   "metadata": {},
   "source": [
    "#### We want to see what happens when we try to see values of 2 variables in one cell without print statement"
   ]
  },
  {
   "cell_type": "code",
   "execution_count": 21,
   "id": "44edf2a0-f840-4dd7-8fb6-da60a90cb2cd",
   "metadata": {},
   "outputs": [
    {
     "data": {
      "text/plain": [
       "array([[5, 6],\n",
       "       [7, 8]])"
      ]
     },
     "execution_count": 21,
     "metadata": {},
     "output_type": "execute_result"
    }
   ],
   "source": [
    "A\n",
    "B"
   ]
  },
  {
   "cell_type": "markdown",
   "id": "b3e8ecdc-b53a-439e-bfd6-a19256c30d79",
   "metadata": {},
   "source": [
    "#### We see that only matrix B gets shown on the screen."
   ]
  },
  {
   "cell_type": "code",
   "execution_count": 22,
   "id": "24a91901-d5fd-46ae-9aa4-04e0fd2c74c3",
   "metadata": {},
   "outputs": [],
   "source": [
    "#### We want to see what happens when we try to see values of 2 variables in one cell With print statement."
   ]
  },
  {
   "cell_type": "code",
   "execution_count": 23,
   "id": "d5b258d9-48ba-4d60-b7de-675825e08783",
   "metadata": {},
   "outputs": [
    {
     "name": "stdout",
     "output_type": "stream",
     "text": [
      "Matrix A:\n",
      "[[1 2]\n",
      " [3 4]]\n",
      "\n",
      "Matrix B:\n",
      "[[5 6]\n",
      " [7 8]]\n"
     ]
    }
   ],
   "source": [
    "print(\"Matrix A:\")\n",
    "print(A)\n",
    "\n",
    "print(\"\\nMatrix B:\")\n",
    "print(B)"
   ]
  },
  {
   "cell_type": "markdown",
   "id": "03e833fb-4526-41a8-9032-82c0b25cffd7",
   "metadata": {},
   "source": [
    "#### We see that both the matrices get printed with the print statement."
   ]
  },
  {
   "cell_type": "markdown",
   "id": "82b9d73b-42fc-40b6-8cf9-f14ee8b9d62b",
   "metadata": {},
   "source": [
    "#### Now let's define a 3x3 matrix C:"
   ]
  },
  {
   "cell_type": "code",
   "execution_count": 24,
   "id": "eb89941d-2216-482c-8627-51b9ffb31e5d",
   "metadata": {},
   "outputs": [],
   "source": [
    "\n",
    "C=np.array([[1,2,3],[4,5,6],[7,8,9]])"
   ]
  },
  {
   "cell_type": "code",
   "execution_count": 25,
   "id": "c0a0e711-2b5c-4071-9b47-b0416e7c39ec",
   "metadata": {},
   "outputs": [
    {
     "data": {
      "text/plain": [
       "array([[1, 2, 3],\n",
       "       [4, 5, 6],\n",
       "       [7, 8, 9]])"
      ]
     },
     "execution_count": 25,
     "metadata": {},
     "output_type": "execute_result"
    }
   ],
   "source": [
    "C"
   ]
  },
  {
   "cell_type": "markdown",
   "id": "fad0e434-7751-4e67-a5bf-107f7abe665c",
   "metadata": {},
   "source": [
    "### 2. To see variables defined in scope:"
   ]
  },
  {
   "cell_type": "code",
   "execution_count": 27,
   "id": "98529195-d9c7-4363-bc2c-54a22fd0cec7",
   "metadata": {},
   "outputs": [
    {
     "name": "stdout",
     "output_type": "stream",
     "text": [
      "Variable   Type       Data/Info\n",
      "-------------------------------\n",
      "A          ndarray    2x2: 4 elems, type `int64`, 32 bytes\n",
      "B          ndarray    2x2: 4 elems, type `int64`, 32 bytes\n",
      "C          ndarray    3x3: 9 elems, type `int64`, 72 bytes\n",
      "np         module     <module 'numpy' from '/op<...>kages/numpy/__init__.py'>\n"
     ]
    }
   ],
   "source": [
    "whos\n"
   ]
  },
  {
   "cell_type": "markdown",
   "id": "f7cdd94d-fb0f-4b1f-bc02-a79c9cc14cdd",
   "metadata": {},
   "source": [
    "### 3. Check datatype of matrices:"
   ]
  },
  {
   "cell_type": "code",
   "execution_count": 28,
   "id": "f97abd5d-c0d4-47d6-bc9d-48061bbac945",
   "metadata": {},
   "outputs": [
    {
     "data": {
      "text/plain": [
       "dtype('int64')"
      ]
     },
     "execution_count": 28,
     "metadata": {},
     "output_type": "execute_result"
    }
   ],
   "source": [
    "A.dtype"
   ]
  },
  {
   "cell_type": "code",
   "execution_count": 29,
   "id": "b3f9751d-f1f8-4d09-bfe1-be95644197ea",
   "metadata": {},
   "outputs": [
    {
     "name": "stdout",
     "output_type": "stream",
     "text": [
      "Data type Matrix A:\n",
      "int64\n",
      "\n",
      "Data type Matrix B:\n",
      "int64\n",
      "\n",
      "Data type Matrix C:\n",
      "int64\n"
     ]
    }
   ],
   "source": [
    "print(\"Data type Matrix A:\")\n",
    "print(A.dtype)\n",
    "\n",
    "print(\"\\nData type Matrix B:\")\n",
    "print(B.dtype)\n",
    "\n",
    "print(\"\\nData type Matrix C:\")\n",
    "print(C.dtype)"
   ]
  },
  {
   "cell_type": "markdown",
   "id": "83b6feb3-df35-486b-9760-ac856586d211",
   "metadata": {},
   "source": [
    "#### Define matrix G of type doubles and size 2x3:"
   ]
  },
  {
   "cell_type": "code",
   "execution_count": 30,
   "id": "c3676430-69f5-4b2b-a018-7bf8ee8fc8cf",
   "metadata": {},
   "outputs": [
    {
     "data": {
      "text/plain": [
       "array([[1., 2., 3.],\n",
       "       [4., 5., 6.]])"
      ]
     },
     "execution_count": 30,
     "metadata": {},
     "output_type": "execute_result"
    }
   ],
   "source": [
    "G=np.array([[1,2,3],[4,5,6]],np.double)\n",
    "G"
   ]
  },
  {
   "cell_type": "code",
   "execution_count": 31,
   "id": "23203843-3aec-43d6-829a-1af1bf96f0e8",
   "metadata": {},
   "outputs": [
    {
     "name": "stdout",
     "output_type": "stream",
     "text": [
      "float64\n"
     ]
    }
   ],
   "source": [
    "print(G.dtype)"
   ]
  },
  {
   "cell_type": "code",
   "execution_count": 32,
   "id": "41a2ff79-ba35-434b-8e81-10f9e70c2288",
   "metadata": {},
   "outputs": [
    {
     "name": "stdout",
     "output_type": "stream",
     "text": [
      "Variable   Type       Data/Info\n",
      "-------------------------------\n",
      "A          ndarray    2x2: 4 elems, type `int64`, 32 bytes\n",
      "B          ndarray    2x2: 4 elems, type `int64`, 32 bytes\n",
      "C          ndarray    3x3: 9 elems, type `int64`, 72 bytes\n",
      "G          ndarray    2x3: 6 elems, type `float64`, 48 bytes\n",
      "np         module     <module 'numpy' from '/op<...>kages/numpy/__init__.py'>\n"
     ]
    }
   ],
   "source": [
    "whos"
   ]
  },
  {
   "cell_type": "markdown",
   "id": "e8e6e610-192f-4fdc-aeb5-0ee142110ea5",
   "metadata": {},
   "source": [
    "### 4. Define Zero and Identity Matrix:"
   ]
  },
  {
   "cell_type": "markdown",
   "id": "944c7d43-8f70-4105-8b41-38404f5ade71",
   "metadata": {},
   "source": [
    "#### To define zero matrix of size 4x4:"
   ]
  },
  {
   "cell_type": "code",
   "execution_count": 34,
   "id": "b08b69be-02fd-405d-adf5-1fb96e4d5c4c",
   "metadata": {},
   "outputs": [
    {
     "data": {
      "text/plain": [
       "array([[0., 0., 0., 0.],\n",
       "       [0., 0., 0., 0.],\n",
       "       [0., 0., 0., 0.],\n",
       "       [0., 0., 0., 0.]])"
      ]
     },
     "execution_count": 34,
     "metadata": {},
     "output_type": "execute_result"
    }
   ],
   "source": [
    "Z_4=np.zeros(shape=(4,4)) ## In NumPy, the default data type for numbers in an array created by np.zeros is float64.\n",
    "Z_4"
   ]
  },
  {
   "cell_type": "markdown",
   "id": "620e0782-5055-4143-91fe-0c929cb49899",
   "metadata": {},
   "source": [
    "#### If you want Zero matrix, that has integer values:"
   ]
  },
  {
   "cell_type": "code",
   "execution_count": 36,
   "id": "a7d0aea8-7c80-4510-88f6-ebe1a2abc50e",
   "metadata": {},
   "outputs": [
    {
     "data": {
      "text/plain": [
       "array([[0, 0, 0, 0],\n",
       "       [0, 0, 0, 0],\n",
       "       [0, 0, 0, 0],\n",
       "       [0, 0, 0, 0]])"
      ]
     },
     "execution_count": 36,
     "metadata": {},
     "output_type": "execute_result"
    }
   ],
   "source": [
    "Z4=np.zeros(shape=(4,4),dtype=int)\n",
    "Z4"
   ]
  },
  {
   "cell_type": "markdown",
   "id": "647bfa37-a687-4143-b277-7b41f0a1a472",
   "metadata": {},
   "source": [
    "#### To define Identity matrix of size 4x4:"
   ]
  },
  {
   "cell_type": "code",
   "execution_count": 37,
   "id": "9ea02607-54db-4924-8c2d-7059f1c25970",
   "metadata": {},
   "outputs": [
    {
     "data": {
      "text/plain": [
       "array([[1., 0., 0., 0.],\n",
       "       [0., 1., 0., 0.],\n",
       "       [0., 0., 1., 0.],\n",
       "       [0., 0., 0., 1.]])"
      ]
     },
     "execution_count": 37,
     "metadata": {},
     "output_type": "execute_result"
    }
   ],
   "source": [
    "I_4=np.identity(4)\n",
    "I_4"
   ]
  },
  {
   "cell_type": "markdown",
   "id": "592b07c5-906d-46a1-8b62-2ae95a1ab684",
   "metadata": {},
   "source": [
    "#### To define Identity Matrix of type int:"
   ]
  },
  {
   "cell_type": "code",
   "execution_count": 40,
   "id": "125293e7-0b4c-4a3e-9542-ce233e658bc4",
   "metadata": {},
   "outputs": [
    {
     "data": {
      "text/plain": [
       "array([[1, 0, 0, 0],\n",
       "       [0, 1, 0, 0],\n",
       "       [0, 0, 1, 0],\n",
       "       [0, 0, 0, 1]])"
      ]
     },
     "execution_count": 40,
     "metadata": {},
     "output_type": "execute_result"
    }
   ],
   "source": [
    "I4=np.identity(4,dtype=int)\n",
    "I4"
   ]
  },
  {
   "cell_type": "markdown",
   "id": "ebf39dfc-a9a2-4571-91fc-06cf9c8008d7",
   "metadata": {},
   "source": [
    "#### Another approach to define identity:"
   ]
  },
  {
   "cell_type": "code",
   "execution_count": 41,
   "id": "5fd6f8ee-701d-4e77-917e-13ec252710a4",
   "metadata": {},
   "outputs": [
    {
     "data": {
      "text/plain": [
       "array([[1., 0., 0.],\n",
       "       [0., 1., 0.],\n",
       "       [0., 0., 1.]])"
      ]
     },
     "execution_count": 41,
     "metadata": {},
     "output_type": "execute_result"
    }
   ],
   "source": [
    "I_3=np.eye(3,3)\n",
    "I_3"
   ]
  },
  {
   "cell_type": "markdown",
   "id": "962df2e4-1b5f-43e6-bf71-3c67fdd7283b",
   "metadata": {},
   "source": [
    "### 5. Access rows and columns of a matrix:"
   ]
  },
  {
   "cell_type": "markdown",
   "id": "48ed7b97-dc7f-47ad-ab67-4c2d8934bcae",
   "metadata": {},
   "source": [
    "#### In Python, indices start from [0,0]"
   ]
  },
  {
   "cell_type": "markdown",
   "id": "4635ba68-4354-4776-b88e-81964636d715",
   "metadata": {},
   "source": [
    "#### If we want to access the first element of a matrix, we will use indices [0,0]"
   ]
  },
  {
   "cell_type": "code",
   "execution_count": 43,
   "id": "9b0bca43-846e-4722-9ce7-e3bb5527c568",
   "metadata": {},
   "outputs": [
    {
     "name": "stdout",
     "output_type": "stream",
     "text": [
      "Matrix C:\n",
      "[[1 2 3]\n",
      " [4 5 6]\n",
      " [7 8 9]]\n",
      "\n",
      "First element of Matrix C:\n",
      "1\n"
     ]
    }
   ],
   "source": [
    "print(\"Matrix C:\")\n",
    "print(C)\n",
    "\n",
    "print(\"\\nFirst element of Matrix C:\")\n",
    "print(C[0,0])"
   ]
  },
  {
   "cell_type": "markdown",
   "id": "93f66326-4d9e-43fd-bdf5-9fe5bdf28b78",
   "metadata": {},
   "source": [
    "#### Let's modify this element:"
   ]
  },
  {
   "cell_type": "code",
   "execution_count": 44,
   "id": "2c04d4e3-e230-4936-86eb-baad32ee863a",
   "metadata": {},
   "outputs": [
    {
     "name": "stdout",
     "output_type": "stream",
     "text": [
      "First element of Matrix C:\n",
      "7\n",
      "\n",
      "Matrix C:\n",
      "[[7 2 3]\n",
      " [4 5 6]\n",
      " [7 8 9]]\n"
     ]
    }
   ],
   "source": [
    "\n",
    "C[0,0]=7\n",
    "\n",
    "print(\"First element of Matrix C:\")\n",
    "print(C[0,0])\n",
    "\n",
    "print(\"\\nMatrix C:\")\n",
    "print(C)"
   ]
  },
  {
   "cell_type": "markdown",
   "id": "ff1c7286-462d-495a-aedf-f6f8a48108a4",
   "metadata": {},
   "source": [
    "#### Let's change it back to its original value:"
   ]
  },
  {
   "cell_type": "code",
   "execution_count": 46,
   "id": "ffdccba9-e0c0-4356-b187-e62363f09557",
   "metadata": {},
   "outputs": [
    {
     "name": "stdout",
     "output_type": "stream",
     "text": [
      "[[1 2 3]\n",
      " [4 5 6]\n",
      " [7 8 9]]\n"
     ]
    }
   ],
   "source": [
    "C[0,0]=1\n",
    "print(C)"
   ]
  },
  {
   "cell_type": "markdown",
   "id": "1a178a60-e06c-4652-8da1-9760d89395cd",
   "metadata": {},
   "source": [
    "#### Let's access first row of a matrix:"
   ]
  },
  {
   "cell_type": "markdown",
   "id": "a246953e-fc95-49a9-bb45-cb62be9c132c",
   "metadata": {},
   "source": [
    "#### first index denotes row: Matrix[row,column]"
   ]
  },
  {
   "cell_type": "code",
   "execution_count": 49,
   "id": "7b74f9af-fd1f-48fc-88ac-c157ae33661c",
   "metadata": {},
   "outputs": [
    {
     "data": {
      "text/plain": [
       "array([1, 2, 3])"
      ]
     },
     "execution_count": 49,
     "metadata": {},
     "output_type": "execute_result"
    }
   ],
   "source": [
    "C[0,:]\n"
   ]
  },
  {
   "cell_type": "code",
   "execution_count": 50,
   "id": "73faca3f-3451-4b8d-8c83-94779986ad70",
   "metadata": {},
   "outputs": [
    {
     "name": "stdout",
     "output_type": "stream",
     "text": [
      "First row of Matrix C:\n",
      "[1 2 3]\n"
     ]
    }
   ],
   "source": [
    "print(\"First row of Matrix C:\")\n",
    "print(C[0,:])\n"
   ]
  },
  {
   "cell_type": "markdown",
   "id": "0cb497a7-1082-4647-8f19-6b1fae4d7389",
   "metadata": {},
   "source": [
    "#### Let's access entries on the third row of matrix C:"
   ]
  },
  {
   "cell_type": "code",
   "execution_count": 52,
   "id": "3c6973ac-41f2-4631-abd1-48818b5862ea",
   "metadata": {},
   "outputs": [
    {
     "name": "stdout",
     "output_type": "stream",
     "text": [
      "Third row of Matrix C:\n",
      "[7 8 9]\n"
     ]
    }
   ],
   "source": [
    "print(\"Third row of Matrix C:\")\n",
    "print(C[2,:])"
   ]
  },
  {
   "cell_type": "markdown",
   "id": "af4aa385-2e3d-4956-9fb8-0ac62cfbda42",
   "metadata": {},
   "source": [
    "#### Let's retrieve 2nd column of matrix C:"
   ]
  },
  {
   "cell_type": "code",
   "execution_count": 53,
   "id": "34e085d8-5ef3-4cbd-a9e4-da639374ce34",
   "metadata": {},
   "outputs": [
    {
     "name": "stdout",
     "output_type": "stream",
     "text": [
      "Second column of Matrix C:\n",
      "[2 5 8]\n"
     ]
    }
   ],
   "source": [
    "print(\"Second column of Matrix C:\")\n",
    "print(C[:,1])"
   ]
  },
  {
   "cell_type": "markdown",
   "id": "7d633dd5-3935-4522-bd96-58e199036725",
   "metadata": {},
   "source": [
    "#### Retrieve Matrix Blocks:"
   ]
  },
  {
   "cell_type": "code",
   "execution_count": 54,
   "id": "1fd441b6-eaa6-418f-9bfe-2f984ec1d2e2",
   "metadata": {},
   "outputs": [],
   "source": [
    "#### Let's retrieve elements with values 1,2,4,5 from C:"
   ]
  },
  {
   "cell_type": "code",
   "execution_count": 47,
   "id": "d609b35b-d6a1-4130-85fc-3e74a9eee693",
   "metadata": {},
   "outputs": [
    {
     "name": "stdout",
     "output_type": "stream",
     "text": [
      "[[1 2]\n",
      " [4 5]]\n"
     ]
    }
   ],
   "source": [
    "print(C[0:2,0:2])\n",
    "\n"
   ]
  },
  {
   "cell_type": "markdown",
   "id": "9a268d93-3d10-471c-9175-5fe7894c73d6",
   "metadata": {},
   "source": [
    "##### Note: 0:2 doesn't include 2 (only 0 and 1)"
   ]
  },
  {
   "cell_type": "markdown",
   "id": "0ef0c579-433d-4daa-b359-e1b766c260ea",
   "metadata": {},
   "source": [
    "#### Now Let's retrieve elements with values 5,6,8,9 from C:"
   ]
  },
  {
   "cell_type": "markdown",
   "id": "d50ce62b-deab-47f8-bfc3-5f6c02cbd5a9",
   "metadata": {},
   "source": [
    "##### rows requires= 1 and 2, Columns= 1 and 2. We Can't define end easily. Hence, leave it blank."
   ]
  },
  {
   "cell_type": "code",
   "execution_count": 55,
   "id": "2312d45e-bc05-45a5-9a8b-d0d1fdf15b5d",
   "metadata": {},
   "outputs": [
    {
     "name": "stdout",
     "output_type": "stream",
     "text": [
      "[[5 6]\n",
      " [8 9]]\n"
     ]
    }
   ],
   "source": [
    "print(C[1:,1:])\n"
   ]
  },
  {
   "cell_type": "code",
   "execution_count": 56,
   "id": "7aed2cc2-1046-4bae-8124-9811f941bd18",
   "metadata": {},
   "outputs": [
    {
     "name": "stdout",
     "output_type": "stream",
     "text": [
      "[[5]]\n"
     ]
    }
   ],
   "source": [
    "print (C[1:2,1:2])\n"
   ]
  },
  {
   "cell_type": "markdown",
   "id": "f44b4ab4-11cf-4354-be7c-3e978bc0015b",
   "metadata": {},
   "source": [
    "##### [1:2,1:2] only gives us the center most element in the matrix"
   ]
  },
  {
   "cell_type": "markdown",
   "id": "604cbd36-40c6-4ea9-97d8-fb561d05f262",
   "metadata": {},
   "source": [
    "#### Another approach to get elements with values 5,6,8,9:"
   ]
  },
  {
   "cell_type": "code",
   "execution_count": 52,
   "id": "d9f393ff-16f5-4267-843a-767437bd4dba",
   "metadata": {},
   "outputs": [
    {
     "name": "stdout",
     "output_type": "stream",
     "text": [
      "[[5 6]\n",
      " [8 9]]\n"
     ]
    }
   ],
   "source": [
    "print(C[-2:,-2:])"
   ]
  },
  {
   "cell_type": "markdown",
   "id": "20f567f3-aed4-4dba-9ab1-0c3397831eea",
   "metadata": {},
   "source": [
    "##### What we did above is called slicing."
   ]
  },
  {
   "cell_type": "code",
   "execution_count": 57,
   "id": "aea488bd-02ed-4134-8cc5-d2b4f4f302cf",
   "metadata": {},
   "outputs": [
    {
     "name": "stdout",
     "output_type": "stream",
     "text": [
      "Variable   Type       Data/Info\n",
      "-------------------------------\n",
      "A          ndarray    2x2: 4 elems, type `int64`, 32 bytes\n",
      "B          ndarray    2x2: 4 elems, type `int64`, 32 bytes\n",
      "C          ndarray    3x3: 9 elems, type `int64`, 72 bytes\n",
      "G          ndarray    2x3: 6 elems, type `float64`, 48 bytes\n",
      "I4         ndarray    4x4: 16 elems, type `int64`, 128 bytes\n",
      "I_3        ndarray    3x3: 9 elems, type `float64`, 72 bytes\n",
      "I_4        ndarray    4x4: 16 elems, type `float64`, 128 bytes\n",
      "Z4         ndarray    4x4: 16 elems, type `int64`, 128 bytes\n",
      "Z_4        ndarray    4x4: 16 elems, type `float64`, 128 bytes\n",
      "np         module     <module 'numpy' from '/op<...>kages/numpy/__init__.py'>\n"
     ]
    }
   ],
   "source": [
    "whos"
   ]
  },
  {
   "cell_type": "markdown",
   "id": "04b36ef1-304e-4a8a-833c-79586547c549",
   "metadata": {},
   "source": [
    "#### Find the no. of rows and columns of a matrix:"
   ]
  },
  {
   "cell_type": "markdown",
   "id": "cbe32b58-0ddb-41f0-8004-b7f3e8b1278b",
   "metadata": {},
   "source": [
    "#### Lets find for matrix G:"
   ]
  },
  {
   "cell_type": "code",
   "execution_count": 54,
   "id": "d6566253-2c38-4d98-83e9-169f2647ed0c",
   "metadata": {},
   "outputs": [
    {
     "name": "stdout",
     "output_type": "stream",
     "text": [
      "[[1. 2. 3.]\n",
      " [4. 5. 6.]]\n",
      "(2, 3)\n"
     ]
    }
   ],
   "source": [
    "print(G)\n",
    "print(G.shape)"
   ]
  },
  {
   "cell_type": "markdown",
   "id": "b02bf113-4681-4d40-a4b8-6965f55e9867",
   "metadata": {},
   "source": [
    "#### Let's find no. of rows in G:"
   ]
  },
  {
   "cell_type": "code",
   "execution_count": 58,
   "id": "584cd6d6-5af1-4843-a2e9-5f5aa414190e",
   "metadata": {},
   "outputs": [
    {
     "name": "stdout",
     "output_type": "stream",
     "text": [
      "No. of rows in G:\n",
      "2\n"
     ]
    }
   ],
   "source": [
    "print(\"No. of rows in G:\")\n",
    "print(G.shape[0])"
   ]
  },
  {
   "cell_type": "markdown",
   "id": "17a125f3-d54e-4db1-9946-21b641eddabf",
   "metadata": {},
   "source": [
    "#### Let's find no. of columns in G:"
   ]
  },
  {
   "cell_type": "code",
   "execution_count": 60,
   "id": "6f5ed51c-c896-4cc0-9951-03018a50b1f6",
   "metadata": {},
   "outputs": [
    {
     "name": "stdout",
     "output_type": "stream",
     "text": [
      "No. of columns in G:\n",
      "3\n"
     ]
    }
   ],
   "source": [
    "print(\"No. of columns in G:\")\n",
    "print(G.shape[1])"
   ]
  },
  {
   "cell_type": "markdown",
   "id": "0de3c4a4-56df-4c4a-a230-b0cf829f17f3",
   "metadata": {},
   "source": [
    "### 6. Matrix Transpose:"
   ]
  },
  {
   "cell_type": "code",
   "execution_count": 59,
   "id": "a83c60c6-3d37-4c60-ae91-9bc8b0b1dba0",
   "metadata": {},
   "outputs": [
    {
     "name": "stdout",
     "output_type": "stream",
     "text": [
      "Matrix G is:\n",
      "[[1. 2. 3.]\n",
      " [4. 5. 6.]]\n",
      "\n",
      "transpose of matrix G is:\n",
      "[[1. 4.]\n",
      " [2. 5.]\n",
      " [3. 6.]]\n"
     ]
    }
   ],
   "source": [
    "print(\"Matrix G is:\")\n",
    "print(G)\n",
    "\n",
    "print(\"\\ntranspose of matrix G is:\")\n",
    "print(G.T)"
   ]
  },
  {
   "cell_type": "markdown",
   "id": "c19fad16-b335-4f7a-b99f-f24b477ee1e9",
   "metadata": {},
   "source": [
    "### 7. Adding two matrices"
   ]
  },
  {
   "cell_type": "markdown",
   "id": "919f2cff-999b-4338-9347-23a735f9a065",
   "metadata": {},
   "source": [
    "#### Let's add A and B:"
   ]
  },
  {
   "cell_type": "code",
   "execution_count": 62,
   "id": "832306f7-df06-4dab-a0fd-91e15bbd18bf",
   "metadata": {},
   "outputs": [
    {
     "name": "stdout",
     "output_type": "stream",
     "text": [
      "A is:\n",
      " [[1 2]\n",
      " [3 4]]\n",
      "B is:\n",
      " [[5 6]\n",
      " [7 8]]\n",
      "Sum of A and B is:\n",
      " [[ 6  8]\n",
      " [10 12]]\n"
     ]
    }
   ],
   "source": [
    "S=A+B\n",
    "print(\"A is:\\n\", A)\n",
    "print(\"B is:\\n\", B)\n",
    "print(\"Sum of A and B is:\\n\", S)"
   ]
  },
  {
   "cell_type": "markdown",
   "id": "9c84a1db-fbb2-496a-af98-0089acbddf54",
   "metadata": {},
   "source": [
    "### 8. Let's multiply matrix by a scalar:"
   ]
  },
  {
   "cell_type": "code",
   "execution_count": 63,
   "id": "6243f1d2-f723-459c-a486-ec9141a1b06f",
   "metadata": {},
   "outputs": [
    {
     "name": "stdout",
     "output_type": "stream",
     "text": [
      "A is:\n",
      " [[1 2]\n",
      " [3 4]]\n",
      "All elements of A multiplied by 2 is\n",
      " [[2 4]\n",
      " [6 8]]\n"
     ]
    }
   ],
   "source": [
    "MM=2*A\n",
    "print(\"A is:\\n\",A)\n",
    "\n",
    "print(\"All elements of A multiplied by 2 is\\n\", MM)"
   ]
  },
  {
   "cell_type": "markdown",
   "id": "8f3a7921-c113-4c2b-b198-8d3dafba90da",
   "metadata": {},
   "source": [
    "### 9. Let's learn how to multiply two matrices:"
   ]
  },
  {
   "cell_type": "code",
   "execution_count": 74,
   "id": "19decf26-3934-46cc-9d00-acbc1ebd16f3",
   "metadata": {},
   "outputs": [
    {
     "name": "stdout",
     "output_type": "stream",
     "text": [
      "M is\n",
      " [[ 5 12]\n",
      " [21 32]]\n",
      "\n",
      "A is\n",
      " [[1 2]\n",
      " [3 4]]\n",
      "\n",
      "B is \n",
      " [[5 6]\n",
      " [7 8]]\n",
      "\n",
      "M seems to be the element wise multiplcation of A and B, but not matrix multiplication :(\n",
      " [[ 5 12]\n",
      " [21 32]]\n"
     ]
    }
   ],
   "source": [
    "M=A*B\n",
    "print (\"M is\\n\",M)\n",
    "print(\"\\nA is\\n\", A)\n",
    "print(\"\\nB is \\n\", B)\n",
    "\n",
    "print(\"\\nM seems to be the element wise multiplcation of A and B, but not matrix multiplication :(\\n\",M)\n"
   ]
  },
  {
   "cell_type": "markdown",
   "id": "c48730bd-7f17-4e08-9fcf-d173e3dc0302",
   "metadata": {},
   "source": [
    "##### Star operator multiplies two matrices elementwise, and we don't want this."
   ]
  },
  {
   "cell_type": "markdown",
   "id": "e24b5ed7-7447-46d5-bd4e-ed5a8b38cd4a",
   "metadata": {},
   "source": [
    "#### Correct way to multiply two matrices:"
   ]
  },
  {
   "cell_type": "code",
   "execution_count": 65,
   "id": "7beb0c58-c05d-4e57-ae2a-70680a47bec4",
   "metadata": {},
   "outputs": [
    {
     "name": "stdout",
     "output_type": "stream",
     "text": [
      "A is\n",
      " [[1 2]\n",
      " [3 4]]\n",
      "\n",
      "B is\n",
      " [[5 6]\n",
      " [7 8]]\n",
      "\n",
      "Matrix multiplication of A and B is\n",
      " [[19 22]\n",
      " [43 50]]\n"
     ]
    }
   ],
   "source": [
    "M1=A.dot(B)\n",
    "print(\"A is\\n\", A)\n",
    "print(\"\\nB is\\n\", B)\n",
    "print(\"\\nMatrix multiplication of A and B is\\n\", M1)"
   ]
  },
  {
   "cell_type": "markdown",
   "id": "19f1bd2d-60fd-4fa4-b82e-22bd2c2995a1",
   "metadata": {},
   "source": [
    "#### 2nd way to multiply two matrices:"
   ]
  },
  {
   "cell_type": "code",
   "execution_count": 66,
   "id": "d39a5a07-74bc-4701-90b6-bd5805229083",
   "metadata": {},
   "outputs": [
    {
     "name": "stdout",
     "output_type": "stream",
     "text": [
      "\n",
      "Second way of Matrix multiplication of A and B is\n",
      " [[19 22]\n",
      " [43 50]]\n"
     ]
    }
   ],
   "source": [
    "M2=np.matmul(A,B)\n",
    "print(\"\\nSecond way of Matrix multiplication of A and B is\\n\", M2)"
   ]
  },
  {
   "cell_type": "markdown",
   "id": "d76c5c8b-6558-4bcf-ada4-b26662166d2b",
   "metadata": {},
   "source": [
    "#### 3rd way:"
   ]
  },
  {
   "cell_type": "code",
   "execution_count": 68,
   "id": "1a46d2d4-7f26-487d-b08c-53299707850f",
   "metadata": {},
   "outputs": [
    {
     "name": "stdout",
     "output_type": "stream",
     "text": [
      "\n",
      "Third way of Matrix multiplication of A and B is\n",
      " [[19 22]\n",
      " [43 50]]\n"
     ]
    }
   ],
   "source": [
    "M3=A@B\n",
    "print(\"\\nThird way of Matrix multiplication of A and B is\\n\", M3)\n"
   ]
  },
  {
   "cell_type": "markdown",
   "id": "ff9a70f7-b2ea-4291-81b4-26ba9833b487",
   "metadata": {},
   "source": [
    "### 10. Matrix Inverse:"
   ]
  },
  {
   "cell_type": "code",
   "execution_count": 70,
   "id": "e434e167-290c-4090-850d-d88a893fd724",
   "metadata": {},
   "outputs": [
    {
     "name": "stdout",
     "output_type": "stream",
     "text": [
      "Variable   Type       Data/Info\n",
      "-------------------------------\n",
      "A          ndarray    2x2: 4 elems, type `int64`, 32 bytes\n",
      "B          ndarray    2x2: 4 elems, type `int64`, 32 bytes\n",
      "C          ndarray    3x3: 9 elems, type `int64`, 72 bytes\n",
      "G          ndarray    2x3: 6 elems, type `float64`, 48 bytes\n",
      "I4         ndarray    4x4: 16 elems, type `int64`, 128 bytes\n",
      "I_3        ndarray    3x3: 9 elems, type `float64`, 72 bytes\n",
      "I_4        ndarray    4x4: 16 elems, type `float64`, 128 bytes\n",
      "M1         ndarray    2x2: 4 elems, type `int64`, 32 bytes\n",
      "M2         ndarray    2x2: 4 elems, type `int64`, 32 bytes\n",
      "M3         ndarray    2x2: 4 elems, type `int64`, 32 bytes\n",
      "MM         ndarray    2x2: 4 elems, type `int64`, 32 bytes\n",
      "S          ndarray    2x2: 4 elems, type `int64`, 32 bytes\n",
      "X          ndarray    2x4: 8 elems, type `int64`, 64 bytes\n",
      "Z4         ndarray    4x4: 16 elems, type `int64`, 128 bytes\n",
      "Z_4        ndarray    4x4: 16 elems, type `float64`, 128 bytes\n",
      "np         module     <module 'numpy' from '/op<...>kages/numpy/__init__.py'>\n"
     ]
    }
   ],
   "source": [
    "whos"
   ]
  },
  {
   "cell_type": "markdown",
   "id": "f144ed60-c343-41b8-bdbe-0cc0b1c88d10",
   "metadata": {},
   "source": [
    "#### Let's calculate inverse of matrix A:"
   ]
  },
  {
   "cell_type": "code",
   "execution_count": 71,
   "id": "dbdd273c-6f6c-4675-a9d0-af337f50ebcc",
   "metadata": {},
   "outputs": [],
   "source": [
    "A1=np.linalg.inv(A)"
   ]
  },
  {
   "cell_type": "markdown",
   "id": "fc58fae1-0599-4fd4-b974-359a2fdb34d9",
   "metadata": {},
   "source": [
    "#### Check if A1 is the inverse of A:"
   ]
  },
  {
   "cell_type": "markdown",
   "id": "7a52802e-b116-4666-88a9-ef3812c1c0fd",
   "metadata": {},
   "source": [
    "##### If A1 is the inverse of A: A1@A=A@A1=Identity matrix"
   ]
  },
  {
   "cell_type": "code",
   "execution_count": 73,
   "id": "06657d89-cec5-4af0-b8d2-c100b0f3b700",
   "metadata": {},
   "outputs": [
    {
     "name": "stdout",
     "output_type": "stream",
     "text": [
      "[[1.00000000e+00 1.11022302e-16]\n",
      " [0.00000000e+00 1.00000000e+00]]\n"
     ]
    }
   ],
   "source": [
    "print(A@A1)"
   ]
  },
  {
   "cell_type": "markdown",
   "id": "73807e78-bbdc-4ca3-ad14-81e57f5b9477",
   "metadata": {},
   "source": [
    "##### Don't be confused by e^-16, it is effectively zero"
   ]
  },
  {
   "cell_type": "markdown",
   "id": "cccc7d94-9126-4664-bbbf-e7dd01cb7b47",
   "metadata": {},
   "source": [
    "### 11. Save matrix to a file:"
   ]
  },
  {
   "cell_type": "markdown",
   "id": "7edc2dea-cf01-4325-905f-44946571b765",
   "metadata": {},
   "source": [
    "#### first argument in the function save is the name of the file and second argument is the variable name."
   ]
  },
  {
   "cell_type": "code",
   "execution_count": 75,
   "id": "e9e58198-d21f-4978-96e3-c76d3dddeb92",
   "metadata": {},
   "outputs": [],
   "source": [
    "np.save('matrix_file.npy',G)"
   ]
  },
  {
   "cell_type": "markdown",
   "id": "b2ffacfe-f98f-4333-9797-b8fc25d1a051",
   "metadata": {},
   "source": [
    "#### Let's load the saved file:"
   ]
  },
  {
   "cell_type": "code",
   "execution_count": 76,
   "id": "b459dc8c-e0a6-474b-8399-9a40393f8036",
   "metadata": {},
   "outputs": [],
   "source": [
    "G4=np.load('matrix_file.npy')"
   ]
  },
  {
   "cell_type": "markdown",
   "id": "7ff8d067-ff8b-40f9-8f33-a0e3e8392eb6",
   "metadata": {},
   "source": [
    "#### Let's compare both matrices using the boolean operator =="
   ]
  },
  {
   "cell_type": "code",
   "execution_count": 86,
   "id": "4b3d8d4c-f7cf-4fa7-8fb7-1bd4818e6a55",
   "metadata": {},
   "outputs": [
    {
     "name": "stdout",
     "output_type": "stream",
     "text": [
      "[[ True  True  True]\n",
      " [ True  True  True]]\n"
     ]
    }
   ],
   "source": [
    "print(G4==G)"
   ]
  },
  {
   "cell_type": "markdown",
   "id": "ab104ed7-7e09-4cf5-828d-b767c1dcb117",
   "metadata": {},
   "source": [
    "##### All elements of G4 are equal to G."
   ]
  }
 ],
 "metadata": {
  "kernelspec": {
   "display_name": "Python 3 (ipykernel)",
   "language": "python",
   "name": "python3"
  },
  "language_info": {
   "codemirror_mode": {
    "name": "ipython",
    "version": 3
   },
   "file_extension": ".py",
   "mimetype": "text/x-python",
   "name": "python",
   "nbconvert_exporter": "python",
   "pygments_lexer": "ipython3",
   "version": "3.11.7"
  }
 },
 "nbformat": 4,
 "nbformat_minor": 5
}
